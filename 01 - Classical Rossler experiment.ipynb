{
 "cells": [
  {
   "cell_type": "markdown",
   "metadata": {},
   "source": [
    "## Import libraries"
   ]
  },
  {
   "cell_type": "code",
   "execution_count": 1,
   "metadata": {
    "code_folding": [
     0
    ],
    "run_control": {
     "marked": false
    }
   },
   "outputs": [],
   "source": [
    "# Import lybraries\n",
    "import numpy as np #numerical computation package\n",
    "import scipy as sp #library of scientific algorithms\n",
    "# from scipy.integrate import odeint #to integrate ODEs\n",
    "# from scipy.spatial.distance import pdist, squareform #to compute Recurrence Plot\n",
    "# from scipy import signal #to decimate data\n",
    "import pandas as pd #library to manipulate and arrange data properly\n",
    "import sympy as sym #symbolic library\n",
    "import time\n",
    "from numba import jit #library to compile some functions\n",
    "import numba #import this way to avoid problems with parallel computation...\n",
    "import matplotlib.pyplot as plt #library to plot graphs\n",
    "from mpl_toolkits.mplot3d import Axes3D #plot in 3D\n",
    "%matplotlib inline\n",
    "plt.rc('text', usetex=True) #to use Tex fonts in figures\n",
    "import os.path #to verify existence of a file"
   ]
  },
  {
   "cell_type": "code",
   "execution_count": 2,
   "metadata": {},
   "outputs": [],
   "source": [
    "# Import created functions\n",
    "from LF_dynaSysLib import *\n",
    "# from importlib import reload\n",
    "# reload(LF_dynaSysLib)"
   ]
  },
  {
   "cell_type": "markdown",
   "metadata": {},
   "source": [
    "## Oscillators (and their Poincaré sections)\n",
    "#### Classics"
   ]
  },
  {
   "cell_type": "code",
   "execution_count": 3,
   "metadata": {
    "code_folding": [],
    "run_control": {
     "marked": false
    }
   },
   "outputs": [],
   "source": [
    "# Rossler: Poincaré section ( x == (c - sqrt(c**2-4*a*b))/2 ) and (dx/dt > 0): f_rossler_poin(x1, x2,...)\n",
    "def f_rossler_poin(x1, x2, a = .398, b = 2, c = 4):\n",
    "    \"\"\"\"\n",
    "    Poincare section proposed by Letellier, C., Dutertre, P., & Maheu, B. (1995). 10.1063/1.166076.\n",
    "    \n",
    "    Inputs:\n",
    "        x1: state of the system to be verified if it is BEFORE the Poincare section\n",
    "        x2: state of the system to be verified if it is AFTER the Poincare section\n",
    "        x1.shape = x2.shape = (N, n=3), N: #of points, n=3: order of the system\n",
    "    \n",
    "    Default parameters:\n",
    "       - a = .398, b = 2, c = 4\n",
    "       - a = 0.165, b = 0.2, c = 10 (alternative)\n",
    "    \n",
    "    IFMG - v001 - LFA dez-2020: vectorized implementation\n",
    "    \"\"\"\n",
    "    x1 = x1.reshape(-1, 3) # \"3\" represents the order of the system\n",
    "    x2 = x2.reshape(-1, 3)\n",
    "    xPoin = .5*(c-(c**2-4*a*b)**(.5))\n",
    "    return (  ( ((x1[:,0]-xPoin)*(x2[:,0]-xPoin))<0 ) & (x2[:,0] > x1[:,0])  )"
   ]
  },
  {
   "cell_type": "code",
   "execution_count": 4,
   "metadata": {
    "code_folding": [
     0
    ],
    "run_control": {
     "marked": false
    }
   },
   "outputs": [],
   "source": [
    "# Rössler oscillator: f_rossler(x, t, omg = 1, a = 0.165, b = 0.2, c = 10) \n",
    "@jit(nopython=True)\n",
    "def f_rossler(x, t, omg = 1, a = 0.165, b = 0.2, c = 10):\n",
    "    \"\"\"\n",
    "    Rössler oscillator (Rössler, 1976) - Phys. Lett. A, 57(5), 397–398.\n",
    "        - x[0], x[1], x[2]: state variables sys.(1)  {dx = F(x)\n",
    "        - t: time\n",
    "    \n",
    "    MACSIN - v000 - LFA jul-2017\n",
    "    \"\"\"   \n",
    "    \n",
    "    # ---------------------------------------------------\n",
    "    # state vectors\n",
    "    x1 = x[0]\n",
    "    y1 = x[1]\n",
    "    z1 = x[2]\n",
    "    \n",
    "    # ---------------------------------------------------\n",
    "    # Rössler oscillator\n",
    "    # omg = 1; a = 0.165; b = 0.2; c = 10; #parameters (1)\n",
    "    return np.array([ -omg*y1-z1 , #drift vector field\n",
    "                      omg*x1+a*y1 ,\n",
    "                      b+z1*(x1-c) ])"
   ]
  },
  {
   "cell_type": "code",
   "execution_count": 5,
   "metadata": {
    "code_folding": [
     0
    ],
    "run_control": {
     "marked": false
    }
   },
   "outputs": [],
   "source": [
    "# Two coupled Rossler systems: f_coupRossler(x, t, eps) \n",
    "@jit(nopython=True)\n",
    "def f_coupRossler(x, t, eps):\n",
    "    \"\"\"\n",
    "    Two coupled hyperchaotic Rossler oscillators:\n",
    "        - x[0], x[1], x[2]: state variables sys.(1), Rossler\n",
    "        - x[3], x[4], x[5]: state variables sys.(2), Rossler\n",
    "        - t: time\n",
    "        - eps: coupling strength\n",
    "        - coupVar: coupling variable shape=(3,)\n",
    "        \n",
    "    IFMG - v000 - LFA dez-2020\n",
    "    \"\"\"   \n",
    "    # state vectors and fixed parameters\n",
    "    x1, y1, z1, x2, y2, z2 = x\n",
    "    \n",
    "    # SYSTEM (1)\n",
    "    omg = .98; a = .398; b = 2; c = 4\n",
    "    F1 = np.array([ -omg*y1-z1 , #drift vector field\n",
    "                     omg*x1+a*y1 ,\n",
    "                     b+z1*(x1-c)\n",
    "    ])\n",
    "    G1 = np.array([ eps[0]*(x2-x1) , #control vector field\n",
    "                    eps[1]*(y2-y1) ,\n",
    "                    eps[2]*(z2-z1)\n",
    "    ])\n",
    "    \n",
    "    # SYSTEM (2)\n",
    "    omg = 1.02; a = .398; b = 2; c = 4\n",
    "    F2 = np.array([ -omg*y2-z2 , #drift vector field\n",
    "                     omg*x2+a*y2 ,\n",
    "                     b+z2*(x2-c)\n",
    "    ])\n",
    "    G2 = np.array([ eps[0]*(x1-x2) , #control vector field\n",
    "                    eps[1]*(y1-y2) ,\n",
    "                    eps[2]*(z1-z2)\n",
    "    ])\n",
    "    \n",
    "    # Whole differential equations\n",
    "    dx = np.hstack((F1 + G1, F2 + G2))\n",
    "    \n",
    "    return dx"
   ]
  },
  {
   "cell_type": "code",
   "execution_count": 6,
   "metadata": {
    "code_folding": [
     0
    ],
    "run_control": {
     "marked": false
    }
   },
   "outputs": [],
   "source": [
    "# Two coupled Hyperchaotic Rossler systems: f_hyperChaosRossler_sync(x, t, eps) \n",
    "@numba.jit(nopython=True)\n",
    "def f_hyperChaosRossler_sync(x, t, eps):\n",
    "    \"\"\"\n",
    "    Two coupled hyperchaotic Rossler oscillators:\n",
    "        - x[0], x[1], x[2], x[3]: state variables sys.(1), hyperchaotic Rossler\n",
    "        - x[4], x[5], x[6], x[7]: state variables sys.(2), hyperchaotic Rossler\n",
    "        - t: time\n",
    "        - eps: coupling strength\n",
    "        \n",
    "        Initial conditions can be: x0 = −10; y0 = −6; z0 = 0; w0 = 10.0;\n",
    "        \n",
    "    MACSIN - v000 - LFA abr-2017\n",
    "    \"\"\"   \n",
    "    # state vectors and fixed parameters\n",
    "    x1, y1, z1, w1, x2, y2, z2, w2 = x\n",
    "    \n",
    "    # SYSTEM (1)\n",
    "    a=0.25; b=3; c=0.5; d=0.05;\n",
    "    F1 = np.array([ -y1 - z1 , #drift vector field\n",
    "                    x1 + a*y1 + w1 ,\n",
    "                    b + x1*z1 ,\n",
    "                    -c*z1 + d*w1\n",
    "    ])\n",
    "    G1 = np.array([ (x2-x1) , #control vector field\n",
    "                    (y2-y1) ,\n",
    "                    (z2-z1) ,\n",
    "                    (w2-w1)\n",
    "    ])\n",
    "    \n",
    "    # SYSTEM (2)\n",
    "    a=0.255; b=3; c=0.5; d=0.05;\n",
    "    F2 = np.array([ -y2 - z2 , #drift vector field\n",
    "                    x2 + a*y2 + w2 ,\n",
    "                    b + x2*z2 ,\n",
    "                    -c*z2 + d*w2\n",
    "    ])\n",
    "    G2 = np.array([ (x1-x2) , #control vector field\n",
    "                    (y1-y2) ,\n",
    "                    (z1-z2) ,\n",
    "                    (w1-w2)\n",
    "    ])\n",
    "    \n",
    "    # Whole differential equations\n",
    "    dx = np.hstack((F1,F2)) + np.hstack((eps*G1,eps*G2))\n",
    "    \n",
    "    return dx"
   ]
  },
  {
   "cell_type": "markdown",
   "metadata": {},
   "source": [
    "#### Proposed (old works)"
   ]
  },
  {
   "cell_type": "code",
   "execution_count": 7,
   "metadata": {
    "code_folding": [
     0
    ],
    "run_control": {
     "marked": false
    }
   },
   "outputs": [],
   "source": [
    "# Coherent Funnel Attractor (modified Rössler): f_coherentFunnel(x, t, omg = 1, a = .3, b = .1, c = 8.5) \n",
    "@jit(nopython=True)\n",
    "def f_coherentFunnel(x, t, omg = 1, a = .3, b = .1, c = 8.5):\n",
    "    \"\"\"\n",
    "    Modified Rössler oscillator\n",
    "        - x[0], x[1], x[2]: state variables sys.(1)  {dx = F(x)\n",
    "        - t: time\n",
    "    \n",
    "    MACSIN - v000 - LFA jul-2017\n",
    "    Phase coherence is not related to topology. PHYSICAL REVIEW E, v. 101, p. 032207, 2020.\n",
    "    http://dx.doi.org/10.1103/PhysRevE.101.032207\n",
    "    \"\"\"   \n",
    "    # state vectors\n",
    "    x1 = x[0]\n",
    "    y1 = x[1]\n",
    "    z1 = x[2]\n",
    "    \n",
    "    # differential equation\n",
    "    fx = np.array([ -omg*y1-z1 , #drift vector field\n",
    "                     omg*x1+a*y1 ,\n",
    "                     b+z1*(x1-c) ])\n",
    "    \n",
    "    # reparameterization of time\n",
    "    hx = .546-.471*np.tanh((z1-25.5)/11)\n",
    "    fx = hx*fx\n",
    "    \n",
    "    return fx"
   ]
  },
  {
   "cell_type": "code",
   "execution_count": 8,
   "metadata": {
    "code_folding": [
     0
    ],
    "run_control": {
     "marked": false
    }
   },
   "outputs": [],
   "source": [
    "# Noncoherent Spiral Attractor (modified Rössler): f_noncoherentSpiral(x, t, omg = 1, a = .16, b = .1, c = 8.5) \n",
    "@jit(nopython=True)\n",
    "def f_noncoherentSpiral(x, t, omg = 1, a = .16, b = .1, c = 8.5):\n",
    "    \"\"\"\n",
    "    Modified Rössler oscillator\n",
    "        - x[0], x[1], x[2]: state variables sys.(1)  {dx = F(x)\n",
    "        - t: time\n",
    "    \n",
    "    MACSIN - v000 - LFA jul-2017\n",
    "    Phase coherence is not related to topology. PHYSICAL REVIEW E, v. 101, p. 032207, 2020.\n",
    "    http://dx.doi.org/10.1103/PhysRevE.101.032207\n",
    "    \"\"\"   \n",
    "    # state vectors\n",
    "    x1 = x[0]\n",
    "    y1 = x[1]\n",
    "    z1 = x[2]\n",
    "    \n",
    "    # differential equation\n",
    "    fx = np.array([ -omg*y1-z1 , #drift vector field\n",
    "                     omg*x1+a*y1 ,\n",
    "                     b+z1*(x1-c) ])\n",
    "    \n",
    "    # reparameterization of time\n",
    "    # hx = 21+25*np.tanh((z1-11)/10)\n",
    "    # hx = 100.1+100*np.tanh((z1-21.5)/7)\n",
    "    hx = 0.01 + 0.05*(x1**2 + y1**2)\n",
    "    fx = hx*fx\n",
    "    \n",
    "    return fx"
   ]
  },
  {
   "cell_type": "markdown",
   "metadata": {},
   "source": [
    "#### New Proposal"
   ]
  },
  {
   "cell_type": "code",
   "execution_count": 9,
   "metadata": {
    "code_folding": [
     0
    ],
    "run_control": {
     "marked": false
    }
   },
   "outputs": [],
   "source": [
    "# Rossler-Z (modified Rössler): f_rosslerZ(x, t, omg = 1, a = .3, b = .1, c = 8.5) \n",
    "@jit(nopython=True)\n",
    "def f_rosslerZ(x, t, omg = 1, a = .398, b = 2, c = 4):\n",
    "    \"\"\"\n",
    "    Modified Rössler oscillator\n",
    "        - x[0], x[1], x[2]: state variables sys.(1)  {dx = F(x)\n",
    "        - t: time\n",
    "        \n",
    "        Spiral: omg = 1, a = .16, b = .1, c = 8.5\n",
    "        Funnel: omg = 1, a = .3, b = .1, c = 8.5\n",
    "        Other: omg = 1, a = .398, b = 2, c = 4 (lifted spiral attractor)\n",
    "    IFMG - v000 - LFA dez-2020\n",
    "    \"\"\"   \n",
    "    # state vectors\n",
    "    x1 = x[0]\n",
    "    y1 = x[1]\n",
    "    z1 = x[2]\n",
    "    \n",
    "    # differential equation\n",
    "    fx = np.array([ -omg*y1-z1 , #drift vector field\n",
    "                     omg*x1+a*y1 ,\n",
    "                     b+z1*(x1-c) ])\n",
    "    \n",
    "    # reparameterization of time\n",
    "    # hx = .546-.471*np.tanh((z1-25.5)/11) #<== from previous paper http://dx.doi.org/10.1103/PhysRevE.101.032207\n",
    "    # hx = .546-.471*np.tanh((z1-1)/1)\n",
    "    # hx = 5.546-5.471*np.tanh((z1-1)/1)\n",
    "\n",
    "    hx = 5.5-5.4*np.tanh((z1-1)/1)\n",
    "    fx = hx*fx\n",
    "    \n",
    "    return fx"
   ]
  },
  {
   "cell_type": "code",
   "execution_count": 10,
   "metadata": {
    "code_folding": [
     0
    ],
    "run_control": {
     "marked": false
    }
   },
   "outputs": [],
   "source": [
    "# Two coupled Rossler-Z systems: f_coupRosslerZ(x, t, eps) \n",
    "@jit(nopython=True)\n",
    "def f_coupRosslerZ(x, t, eps):\n",
    "    \"\"\"\n",
    "    Two coupled hyperchaotic Rossler oscillators:\n",
    "        - x[0], x[1], x[2]: state variables sys.(1), Rossler-Z (modified Rossler)\n",
    "        - x[3], x[4], x[5]: state variables sys.(2), Rossler-Z (modified Rossler)\n",
    "        - t: time\n",
    "        - eps: coupling strength\n",
    "        \n",
    "    MACSIN - v000 - LFA abr-2017\n",
    "    \"\"\"   \n",
    "    # state vectors and fixed parameters\n",
    "    x1, y1, z1, x2, y2, z2 = x\n",
    "    \n",
    "    # SYSTEM (1)\n",
    "    omg = 1; a = .398; b = 2; c = 4\n",
    "    F1 = np.array([ -omg*y1-z1 , #drift vector field\n",
    "                     omg*x1+a*y1 ,\n",
    "                     b+z1*(x1-c)\n",
    "    ])\n",
    "    G1 = np.array([ eps[0]*(x2-x1) , #control vector field\n",
    "                    eps[1]*(y2-y1) ,\n",
    "                    eps[2]*(z2-z1)\n",
    "    ])\n",
    "    \n",
    "    # SYSTEM (2)\n",
    "    omg = 1; a = .398; b = 2; c = 4\n",
    "    F2 = np.array([ -omg*y2-z2 , #drift vector field\n",
    "                     omg*x2+a*y2 ,\n",
    "                     b+z2*(x2-c)\n",
    "    ])\n",
    "    G2 = np.array([ eps[0]*(x1-x2) , #control vector field\n",
    "                    eps[1]*(y1-y2) ,\n",
    "                    eps[2]*(z1-z2)\n",
    "    ])\n",
    "    \n",
    "#     # reparameterization of time ####################<=== OLD\n",
    "#     hx1 = 5.546-5.471*np.tanh((z1-1)/1)\n",
    "#     F1 = hx1*F1\n",
    "#     hx2 = 5.546-5.471*np.tanh((z2-1)/1)\n",
    "#     F2 = hx2*F2\n",
    "    \n",
    "    # reparameterization of time\n",
    "    hx1 = 5.5-5.4*np.tanh((z1-1)/1)\n",
    "    F1 = hx1*F1\n",
    "    hx2 = 5.5-5.4*np.tanh((z2-1)/1)\n",
    "    F2 = hx2*F2\n",
    "    \n",
    "    # Whole differential equations\n",
    "    dx = np.hstack((F1 + G1, F2 + G2))\n",
    "    \n",
    "    return dx"
   ]
  },
  {
   "cell_type": "markdown",
   "metadata": {},
   "source": [
    "## EXPERIMENT CLASSES\n",
    "\n",
    "Classes used to define an experiment and metrics"
   ]
  },
  {
   "cell_type": "code",
   "execution_count": 11,
   "metadata": {
    "code_folding": [
     0
    ]
   },
   "outputs": [],
   "source": [
    "# CLASS: syncExperiment, with the appropriate functions \n",
    "class syncExperiment:\n",
    "    def __init__(self, descricao=\"\"):\n",
    "        \"\"\"\n",
    "        Class used to concentrate data of an experiment.\n",
    "        \"\"\"\n",
    "        self.descricao = descricao\n",
    "        print(\"Object created.\")\n",
    "    \n",
    "    ############################################################\n",
    "    # SIMULATION FUNCTIONS\n",
    "    def simulate(self, ode, eps, dt, x0tr, n=3, tfTr=500, tf=5000):\n",
    "        # PARAMETERS\n",
    "        self.ode = ode #ordinary differential equation\n",
    "        self.eps = eps #coupling strength\n",
    "        self.dt = dt #integration step\n",
    "        self.x0tr = x0tr #initial condition\n",
    "        self.n = n #order of the oscillator(s)\n",
    "        self.tfTr = tfTr #duration of the TRANSIENT regime\n",
    "        self.tf = tf #duration of the PERMANENT regime\n",
    "        \n",
    "        # TRANSIENT simulation\n",
    "        print(\"Running transient simulation...\")\n",
    "        self.tTr = np.arange(0, self.tfTr, self.dt) #transient\n",
    "        self.xTr = intRK2(self.ode, self.x0tr, self.tTr, (0*self.eps,)) #simulate the systems without coupling\n",
    "        self.xTr = intRK2(self.ode, self.xTr[-1], self.tTr, (self.eps,)) #simulate COUPLED systems\n",
    "        \n",
    "        # SIMULATION on permanent regime\n",
    "        print(\"Running permanent regime simulation...\")\n",
    "        self.T = np.arange(0, self.tf, self.dt) #time range\n",
    "        self.X = intRK2(self.ode, self.xTr[-1], self.T, (self.eps,)) #use 'intRK' or 'odeint'\n",
    "        print(\"End of simulation.\")\n",
    "        \n",
    "    def computeVFP(self, f_poincare):\n",
    "        self.poincare = f_poincare #function to compute Poincare section\n",
    "        \n",
    "        print(\"Computing vector field phase (VFP)...\")\n",
    "        # PHASE VARIABLE - compute VFP\n",
    "        self.timeBetCross_1, self.crossIdx_1, self.numPass_1 = f_timeBetCrossPoin(\n",
    "            self.X[:,:self.n], self.T, self.poincare)\n",
    "        self.timeBetCross_2, self.crossIdx_2, self.numPass_2 = f_timeBetCrossPoin(\n",
    "            self.X[:,self.n:], self.T, self.poincare)\n",
    "        \n",
    "        # Phase variable (Poincaré section)\n",
    "        self.phi_a_1 = np.interp(self.T, self.T[self.crossIdx_1], 2*np.pi*np.arange(len(self.crossIdx_1)))\n",
    "        self.phi_a_2 = np.interp(self.T, self.T[self.crossIdx_2], 2*np.pi*np.arange(len(self.crossIdx_2)))\n",
    "\n",
    "        # Phase variable (VFP)\n",
    "        self.vfp_1, self.vfp_2, self.ell1, self.ell2, self.freq1, self.freq2 = f_estimateVFP(\n",
    "            self.X, self.T, self.crossIdx_1, self.crossIdx_2, lambda x: self.ode(x=x, t=0, eps=self.eps))\n",
    "        print(\"VFP computed.\")\n",
    "    \n",
    "    ############################################################\n",
    "    # PERFORMANCE FUNCTIONS\n",
    "    def syncMetrics(self):\n",
    "        # VFP based metrics\n",
    "        phDiff = self.vfp_1 - self.vfp_2\n",
    "        # Mean Phase Coherence (ref: https://doi.org/10.1016/S0167-2789(00)00087-7)\n",
    "        self.VFP_Rcoh = np.sqrt( np.mean(np.sin(np.abs(phDiff)))**2 + np.mean(np.cos(np.abs(phDiff)))**2 )\n",
    "        # Max Absolute phase difference\n",
    "        self.VFP_maxDiff = np.max(np.abs(phDiff))\n",
    "        self.VFP_meanDiff = np.mean(phDiff) #mean phase diff\n",
    "        self.VFP_varDiff = np.var(phDiff) #variance of the phase diff\n",
    "        \n",
    "        # Poincaré phase metrics (same metrics above)\n",
    "        phDiff = self.phi_a_1 - self.phi_a_2\n",
    "        self.phi_a_Rcoh = np.sqrt( np.mean(np.sin(np.abs(phDiff)))**2 + np.mean(np.cos(np.abs(phDiff)))**2 )\n",
    "        self.phi_a_maxDiff = np.max(np.abs(phDiff))\n",
    "        self.phi_a_meanDiff = np.mean(phDiff)\n",
    "        self.phi_a_varDiff = np.var(phDiff)\n",
    "    \n",
    "    ############################################################\n",
    "    # DATA VISUALIZATION PROCEDURES\n",
    "    def plotPhaseDiffVFP(self):\n",
    "        fig = plt.figure(figsize=(6,1), dpi=150)\n",
    "        plt.title(\"Phase difference (VFP) $\\epsilon_x=%.3f$, $\\epsilon_y=%.3f$, $\\epsilon_z=%.3f$\"%\n",
    "                  (self.eps[0], self.eps[1], self.eps[2]))\n",
    "        plt.plot(self.T, self.vfp_1-self.vfp_2)\n",
    "        plt.ylabel(\"VFP phase diff\")\n",
    "        plt.xlabel(\"$t$\")\n",
    "        plt.xlim(min(self.T), max(self.T))\n",
    "        \n",
    "    def plotPhaseDiffPoin(self):\n",
    "        fig = plt.figure(figsize=(6,1), dpi=150)\n",
    "        plt.title(\"Phase difference (Poincaré) $\\epsilon_x=%.3f$, $\\epsilon_y=%.3f$, $\\epsilon_z=%.3f$\"%\n",
    "                  (self.eps[0], self.eps[1], self.eps[2]))\n",
    "        plt.plot(self.T, self.phi_a_1-self.phi_a_2)\n",
    "        plt.ylabel(\"Poin phase diff\")\n",
    "        plt.xlabel(\"$t$\")\n",
    "        plt.xlim(min(self.T), max(self.T))\n",
    "        "
   ]
  },
  {
   "cell_type": "code",
   "execution_count": 21,
   "metadata": {
    "code_folding": []
   },
   "outputs": [],
   "source": [
    "# CLASS: syncExpToSave, where only the main informations are saved (exclude simulated)\n",
    "class syncExpToSave():\n",
    "    def __init__(self, exp=None):\n",
    "        \"\"\"\n",
    "        Class used to save an experiment with using low memory.\n",
    "        The vectors of time, states, phase, are not included.\n",
    "        \"\"\"\n",
    "        if exp is not None:\n",
    "            self.descricao = exp.descricao\n",
    "            self.ode = exp.ode\n",
    "            self.eps = exp.eps\n",
    "            self.dt = exp.dt\n",
    "            self.x0tr = exp.x0tr\n",
    "            self.n = exp.n\n",
    "            self.tfTr = exp.tfTr\n",
    "            self.tf = exp.tf\n",
    "            self.tTr = exp.tTr\n",
    "            self.xTr = exp.xTr\n",
    "            \n",
    "            #self.poincare = exp.poincare\n",
    "            \n",
    "            ######################################### TESTE RETIRANDO PARÂMETRO POINCARE\n",
    "            self.poincare = 0\n",
    "\n",
    "            self.VFP_Rcoh = exp.VFP_Rcoh\n",
    "            self.VFP_maxDiff = exp.VFP_maxDiff\n",
    "            self.VFP_meanDiff = exp.VFP_meanDiff\n",
    "            self.VFP_varDiff = exp.VFP_varDiff\n",
    "            self.phi_a_Rcoh = exp.phi_a_Rcoh\n",
    "            self.phi_a_maxDiff = exp.phi_a_maxDiff\n",
    "            self.phi_a_meanDiff = exp.phi_a_meanDiff\n",
    "            self.phi_a_varDiff = exp.phi_a_varDiff\n",
    "        \n",
    "        print(\"syncExpToSave object created.\")\n",
    "    \n",
    "    def createSyncExp(self):\n",
    "        \"\"\"\n",
    "        Function to creat a \"sync experiment\" object based on the \"syncExpToSave\" object.\n",
    "        \"\"\"\n",
    "        # Create \"sync experiment\" object\n",
    "        exp = syncExperiment()\n",
    "\n",
    "        # Run Simulation!\n",
    "        exp.simulate(ode=self.ode,\n",
    "                     eps=self.eps,\n",
    "                     dt=self.dt, x0tr=self.x0tr, n=self.n, tfTr=self.tfTr, tf=self.tf)\n",
    "\n",
    "        # Compute VFP\n",
    "        exp.computeVFP(f_poincare=self.poincare)\n",
    "\n",
    "        # Compute sync metrics\n",
    "        exp.syncMetrics()\n",
    "        \n",
    "        return exp\n",
    "    \n",
    "    def saveSyncExp(self, fileName):\n",
    "        # save data in a defined oder\n",
    "        data = np.asarray((self.descricao, self.ode, self.eps,\n",
    "                   self.dt, self.x0tr, self.n, self.tfTr,\n",
    "                   self.tf, self.tTr, self.xTr, self.poincare,\n",
    "                   self.VFP_Rcoh, self.VFP_maxDiff, self.VFP_meanDiff,\n",
    "                   self.VFP_varDiff, self.phi_a_Rcoh, self.phi_a_maxDiff,\n",
    "                   self.phi_a_meanDiff, self.phi_a_varDiff), dtype=object)\n",
    "        \n",
    "        # save data compressed\n",
    "        np.savez_compressed(fileName+\".npz\", data)\n",
    "        return 0\n",
    "    \n",
    "    def loadSyncexp(self, fileName):\n",
    "        # load dict of arrays\n",
    "        dict_data = np.load(fileName+\".npz\", allow_pickle=True)\n",
    "        # restore data in the same order\n",
    "        self.descricao, self.ode, self.eps, \\\n",
    "        self.dt, self.x0tr, self.n, self.tfTr, \\\n",
    "        self.tf, self.tTr, self.xTr, self.poincare, \\\n",
    "        self.VFP_Rcoh, self.VFP_maxDiff, self.VFP_meanDiff, \\\n",
    "        self.VFP_varDiff, self.phi_a_Rcoh, self.phi_a_maxDiff, \\\n",
    "        self.phi_a_meanDiff, self.phi_a_varDiff = dict_data['arr_0']\n",
    "        return 0"
   ]
  },
  {
   "cell_type": "markdown",
   "metadata": {},
   "source": [
    "Set experiment number"
   ]
  },
  {
   "cell_type": "markdown",
   "metadata": {},
   "source": [
    "### Parallel processing"
   ]
  },
  {
   "cell_type": "code",
   "execution_count": 23,
   "metadata": {
    "scrolled": true
   },
   "outputs": [
    {
     "name": "stdout",
     "output_type": "stream",
     "text": [
      "- N_workers =  8\n"
     ]
    }
   ],
   "source": [
    "import joblib as jb\n",
    "N_workers = jb.cpu_count()\n",
    "print('- N_workers = ',N_workers)"
   ]
  },
  {
   "cell_type": "code",
   "execution_count": 22,
   "metadata": {
    "code_folding": [],
    "run_control": {
     "marked": false
    }
   },
   "outputs": [],
   "source": [
    "# Sync Experiment: runExperiment(eps_Z, runNumber=0)\n",
    "def runExperiment(eps_Z, runNumber=0):\n",
    "    \n",
    "    # Seed\n",
    "    np.random.seed(runNumber)\n",
    "    \n",
    "    # Initial condition\n",
    "    n = 3\n",
    "    x0tr = 1*np.random.rand(2*n) #random initial condition\n",
    "    \n",
    "    # Create \"sync experiment\" object\n",
    "    exp1 = syncExperiment()\n",
    "    \n",
    "    # Run Simulation!\n",
    "    exp1.simulate(ode=f_coupRossler,\n",
    "                  eps=np.array([0.0, 0.0, eps_Z]),\n",
    "                  dt=.01, x0tr=x0tr, n=n, tfTr=500, tf=5000)\n",
    "    \n",
    "    # Compute VFP\n",
    "    exp1.computeVFP(f_poincare=f_rossler_poin)\n",
    "    \n",
    "    # Compute sync metrics\n",
    "    exp1.syncMetrics()\n",
    "    \n",
    "    # Convert to a low memory version\n",
    "    exp1save = syncExpToSave(exp1)\n",
    "    \n",
    "    # Save results\n",
    "    fileName = 'exp/Rossler_eps_z_%.3d_run_%.4d'%(int(eps_Z*1000), runNumber)\n",
    "    exp1save.saveSyncExp(fileName)\n",
    "    \n",
    "    return runNumber+eps_Z\n",
    "\n",
    "# Function to execute Monte Carlo runs\n",
    "def monteCarloRuns(epsZ, totalRuns = 100):\n",
    "    for runNum in range(totalRuns):\n",
    "        runExperiment(eps_Z=epsZ, runNumber=runNum)\n",
    "    return epsZ"
   ]
  },
  {
   "cell_type": "code",
   "execution_count": null,
   "metadata": {
    "run_control": {
     "marked": false
    },
    "scrolled": false
   },
   "outputs": [
    {
     "name": "stderr",
     "output_type": "stream",
     "text": [
      "[Parallel(n_jobs=-1)]: Using backend LokyBackend with 8 concurrent workers.\n"
     ]
    }
   ],
   "source": [
    "# PARAMETERS of the experiment\n",
    "# Total number of Monte Carlo runs\n",
    "totalRuns = 100\n",
    "# coupling strength values\n",
    "epsZ_values = np.arange(.01, .5, .01)\n",
    "\n",
    "tic = time.time()\n",
    "if __name__ == '__main__':\n",
    "    res=jb.Parallel(n_jobs=-1, verbose=1)(jb.delayed(monteCarloRuns)\n",
    "                                          (epsZ, totalRuns)\n",
    "                                          for epsZ in epsZ_values)\n",
    "toc=time.time()\n",
    "elapsed=toc-tic\n",
    "print('- Elapsed time: %.4f s, %.4f min, %.4f h.'%(elapsed, elapsed/60, elapsed/3600))"
   ]
  },
  {
   "cell_type": "markdown",
   "metadata": {},
   "source": [
    "# Tests executed to verify classes"
   ]
  },
  {
   "cell_type": "code",
   "execution_count": 144,
   "metadata": {
    "code_folding": [
     0
    ],
    "collapsed": true
   },
   "outputs": [
    {
     "name": "stdout",
     "output_type": "stream",
     "text": [
      "Object created.\n",
      "Running transient simulation...\n",
      "Running permanent regime simulation...\n",
      "End of simulation.\n",
      "Computing vector field phase (VFP)...\n",
      "VFP computed.\n",
      "syncExpToSave object created.\n",
      "True\n",
      "syncExpToSave object created.\n",
      "True\n",
      "True\n",
      "True\n",
      "True\n",
      "True\n",
      "True\n",
      "True\n",
      "True\n",
      "True\n",
      "True\n",
      "True\n",
      "True\n",
      "True\n",
      "True\n",
      "True\n",
      "True\n",
      "True\n",
      "True\n",
      "True\n",
      "True\n",
      "True\n",
      "[ True  True  True]\n",
      "True\n",
      "[ True  True  True  True  True  True]\n",
      "True\n",
      "True\n",
      "True\n",
      "[ True  True  True ...  True  True  True]\n",
      "[[ True  True  True  True  True  True]\n",
      " [ True  True  True  True  True  True]\n",
      " [ True  True  True  True  True  True]\n",
      " ...\n",
      " [ True  True  True  True  True  True]\n",
      " [ True  True  True  True  True  True]\n",
      " [ True  True  True  True  True  True]]\n",
      "True\n",
      "True\n",
      "True\n",
      "True\n",
      "True\n",
      "True\n",
      "True\n",
      "True\n",
      "True\n"
     ]
    }
   ],
   "source": [
    "# TEST CLASSES, save, load...\n",
    "\n",
    "# Initial condition\n",
    "n = 3\n",
    "np.random.seed(2021)\n",
    "x0tr = 1*np.random.rand(2*n) #random initial condition\n",
    "# Create \"sync experiment\" object\n",
    "exp1 = syncExperiment()\n",
    "# Run Simulation!\n",
    "exp1.simulate(ode=f_coupRossler,\n",
    "              eps=np.array([0.0, 0.0, 0.7]),\n",
    "              dt=.01, x0tr=x0tr, n=n, tfTr=500, tf=5000)\n",
    "# Compute VFP\n",
    "exp1.computeVFP(f_poincare=f_rossler_poin)\n",
    "# Compute sync metrics\n",
    "exp1.syncMetrics()\n",
    "\n",
    "# Test ==> CHANGE OBJECT TYPE\n",
    "exp1save = syncExpToSave(exp1)\n",
    "print(exp1save.VFP_varDiff == exp1.VFP_varDiff)\n",
    "# Test ==> SAVE FILE\n",
    "exp1save.saveSyncExp(fileName=\"exp/teste123\")\n",
    "exp1loaded = syncExpToSave() #create empty object\n",
    "# Test ==> LOAD FILE\n",
    "exp1loaded.loadSyncexp(fileName=\"exp/teste123\")\n",
    "a_val = [value for value, _ in exp1save.__dict__.items()]\n",
    "b_val = [value for value, _ in exp1loaded.__dict__.items()]\n",
    "# Test if all attribute values are equal\n",
    "for k in range(19):\n",
    "    print(a_val[k] == b_val[k])\n",
    "a_att = [att for _, att in exp1save.__dict__.items()]\n",
    "b_att = [att for _, att in exp1loaded.__dict__.items()]\n",
    "# Test if all attribute names are equal\n",
    "for k in range(19):\n",
    "    print(a_att[k] == b_att[k])\n",
    "########### ALL TESTS ARE OK! ==> 07-02-2021"
   ]
  },
  {
   "cell_type": "code",
   "execution_count": 17,
   "metadata": {
    "collapsed": true
   },
   "outputs": [
    {
     "name": "stdout",
     "output_type": "stream",
     "text": [
      "Object created.\n",
      "Running transient simulation...\n",
      "Running permanent regime simulation...\n",
      "End of simulation.\n",
      "Computing vector field phase (VFP)...\n",
      "VFP computed.\n",
      "syncExpToSave object created.\n",
      " \n",
      "8.827789306640625\n",
      "Object created.\n",
      "Running transient simulation...\n",
      "Running permanent regime simulation...\n",
      "End of simulation.\n",
      "Computing vector field phase (VFP)...\n",
      "VFP computed.\n",
      "syncExpToSave object created.\n",
      "Object created.\n",
      "Running transient simulation...\n",
      "Running permanent regime simulation...\n",
      "End of simulation.\n",
      "Computing vector field phase (VFP)...\n",
      "VFP computed.\n",
      "syncExpToSave object created.\n"
     ]
    },
    {
     "data": {
      "text/plain": [
       "0.03"
      ]
     },
     "execution_count": 17,
     "metadata": {},
     "output_type": "execute_result"
    }
   ],
   "source": [
    "# Testing MONTE CARLO RUN functions ==> ok ~9.48 seconds\n",
    "tic = time.time()\n",
    "runExperiment(eps_Z=.012, runNumber=123)\n",
    "tac = time.time()\n",
    "print(\" \")\n",
    "print(tac-tic)\n",
    "# Test ==> ok!\n",
    "monteCarloRuns(.03, 2)"
   ]
  }
 ],
 "metadata": {
  "kernelspec": {
   "display_name": "Python 3",
   "language": "python",
   "name": "python3"
  },
  "language_info": {
   "codemirror_mode": {
    "name": "ipython",
    "version": 3
   },
   "file_extension": ".py",
   "mimetype": "text/x-python",
   "name": "python",
   "nbconvert_exporter": "python",
   "pygments_lexer": "ipython3",
   "version": "3.6.15"
  },
  "toc": {
   "base_numbering": 1,
   "nav_menu": {
    "height": "288px",
    "width": "322px"
   },
   "number_sections": false,
   "sideBar": true,
   "skip_h1_title": false,
   "title_cell": "Table of Contents",
   "title_sidebar": "Contents",
   "toc_cell": false,
   "toc_position": {},
   "toc_section_display": true,
   "toc_window_display": false
  },
  "varInspector": {
   "cols": {
    "lenName": 16,
    "lenType": 16,
    "lenVar": 40
   },
   "kernels_config": {
    "python": {
     "delete_cmd_postfix": "",
     "delete_cmd_prefix": "del ",
     "library": "var_list.py",
     "varRefreshCmd": "print(var_dic_list())"
    },
    "r": {
     "delete_cmd_postfix": ") ",
     "delete_cmd_prefix": "rm(",
     "library": "var_list.r",
     "varRefreshCmd": "cat(var_dic_list()) "
    }
   },
   "position": {
    "height": "402.4px",
    "left": "1103.4px",
    "right": "20px",
    "top": "119px",
    "width": "392px"
   },
   "types_to_exclude": [
    "module",
    "function",
    "builtin_function_or_method",
    "instance",
    "_Feature"
   ],
   "window_display": false
  },
  "widgets": {
   "application/vnd.jupyter.widget-state+json": {
    "state": {},
    "version_major": 2,
    "version_minor": 0
   }
  }
 },
 "nbformat": 4,
 "nbformat_minor": 4
}
